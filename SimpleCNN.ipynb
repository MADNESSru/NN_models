{
  "cells": [
    {
      "cell_type": "markdown",
      "metadata": {
        "id": "view-in-github",
        "colab_type": "text"
      },
      "source": [
        "<a href=\"https://colab.research.google.com/github/MADNESSru/NN_models/blob/main/SimpleCNN.ipynb\" target=\"_parent\"><img src=\"https://colab.research.google.com/assets/colab-badge.svg\" alt=\"Open In Colab\"/></a>"
      ]
    },
    {
      "cell_type": "code",
      "execution_count": 79,
      "id": "7b34ce82",
      "metadata": {
        "id": "7b34ce82"
      },
      "outputs": [],
      "source": [
        "import pandas as pd\n",
        "import numpy as np\n",
        "import seaborn as sns\n",
        "import torch\n",
        "import torch.nn as nn #(слои функции активации и тд)\n",
        "import torchvision as tv #(изображения)\n",
        "import cv2 #(обработка изображений)\n",
        "import os #(путиб директории)\n",
        "import matplotlib.pyplot as plt\n",
        "from tqdm import tqdm #(прогресс-бар для циклов)\n",
        "import torch.nn.functional as F #(функции активации без параметров)"
      ]
    },
    {
      "cell_type": "code",
      "source": [
        "# Преобразование в тензор и нормализация 0-255, 0-1\n",
        "trans = tv.transforms.Compose([\n",
        "    tv.transforms.ToTensor()\n",
        "])"
      ],
      "metadata": {
        "id": "opC5qInp10Oc"
      },
      "id": "opC5qInp10Oc",
      "execution_count": 80,
      "outputs": []
    },
    {
      "cell_type": "code",
      "source": [
        "# датасет\n",
        "ds_mnist = tv.datasets.MNIST('./datasets', download=True, transform=trans)"
      ],
      "metadata": {
        "id": "LLemJgLA10RL"
      },
      "id": "LLemJgLA10RL",
      "execution_count": 81,
      "outputs": []
    },
    {
      "cell_type": "code",
      "source": [
        "ds_mnist[0][0].shape"
      ],
      "metadata": {
        "colab": {
          "base_uri": "https://localhost:8080/"
        },
        "id": "JQPdSAwI10T5",
        "outputId": "38bb34a6-b2dc-4749-dcd1-91538eb2cd3f"
      },
      "id": "JQPdSAwI10T5",
      "execution_count": 82,
      "outputs": [
        {
          "output_type": "execute_result",
          "data": {
            "text/plain": [
              "torch.Size([1, 28, 28])"
            ]
          },
          "metadata": {},
          "execution_count": 82
        }
      ]
    },
    {
      "cell_type": "code",
      "source": [
        "plt.imshow(ds_mnist[15][0].numpy()[0], cmap='gray')"
      ],
      "metadata": {
        "colab": {
          "base_uri": "https://localhost:8080/",
          "height": 448
        },
        "id": "NABZoW4T10WK",
        "outputId": "62961d5e-eb48-4b70-8b31-818bb71c171b"
      },
      "id": "NABZoW4T10WK",
      "execution_count": 83,
      "outputs": [
        {
          "output_type": "execute_result",
          "data": {
            "text/plain": [
              "<matplotlib.image.AxesImage at 0x7b955f1127d0>"
            ]
          },
          "metadata": {},
          "execution_count": 83
        },
        {
          "output_type": "display_data",
          "data": {
            "text/plain": [
              "<Figure size 640x480 with 1 Axes>"
            ],
            "image/png": "[encoded data removed]"
          },
          "metadata": {}
        }
      ]
    },
    {
      "cell_type": "code",
      "source": [
        "# по 20 изображений за раз\n",
        "# drop_last чтобы отбросить остаток\n",
        "batch_size = 20\n",
        "dataloader = torch.utils.data.DataLoader(\n",
        "    ds_mnist, batch_size=batch_size, shuffle=True,\n",
        "    num_workers=1, drop_last=True\n",
        ")"
      ],
      "metadata": {
        "id": "H9m9tIKi10X8"
      },
      "id": "H9m9tIKi10X8",
      "execution_count": 84,
      "outputs": []
    },
    {
      "cell_type": "code",
      "source": [
        "# изображение + его метка\n",
        "for img, label in dataloader:\n",
        "  print(img.shape)\n",
        "  print(label.shape)\n",
        "  break"
      ],
      "metadata": {
        "colab": {
          "base_uri": "https://localhost:8080/"
        },
        "id": "dtEFNbdO10at",
        "outputId": "b50848bc-f6b8-41ed-f984-45125cda9399"
      },
      "id": "dtEFNbdO10at",
      "execution_count": 85,
      "outputs": [
        {
          "output_type": "stream",
          "name": "stdout",
          "text": [
            "torch.Size([20, 1, 28, 28])\n",
            "torch.Size([20])\n"
          ]
        }
      ]
    },
    {
      "cell_type": "code",
      "source": [
        "# как в примере базового класса PyTorch\n",
        "class SimpleCNN(nn.Module):\n",
        "  def __init__(self):\n",
        "    super().__init__() # чтобы не было ошибки о замене в nn.Module\n",
        "    self.flat = nn.Flatten() # преобразование входа\n",
        "    self.linear1 = nn.Linear(28*28, 100) # слой из 784 в 100 признаков\n",
        "    self.linear2 = nn.Linear(100, 10) # полносвязный слой из 100 в 10 классов\n",
        "    self.act = nn.ReLU()\n",
        "\n",
        "  def forward(self, x):\n",
        "    out = self.flat(x) # преобразование\n",
        "    out = self.linear1(out) # перый слой\n",
        "    out = self.act(out) # активация после него\n",
        "    out = self.linear2(out) # второй слой\n",
        "    return out # логиты(сырые выходы) для 10 классов"
      ],
      "metadata": {
        "id": "gDa3fLiq10dC"
      },
      "id": "gDa3fLiq10dC",
      "execution_count": 86,
      "outputs": []
    },
    {
      "cell_type": "code",
      "source": [
        "def count_parameters(model):\n",
        "  return sum(p.numel() for p in model.parameters() if p.requires_grad)"
      ],
      "metadata": {
        "id": "uKZzvq8uFsv9"
      },
      "id": "uKZzvq8uFsv9",
      "execution_count": 87,
      "outputs": []
    },
    {
      "cell_type": "code",
      "source": [
        "def accuracy(pred, label):\n",
        "  results = F.softmax(pred.detach()).numpy().argmax(1) == label.numpy().argmax(1)\n",
        "  return results.mean()"
      ],
      "metadata": {
        "id": "85uz6h1sIEdB"
      },
      "id": "85uz6h1sIEdB",
      "execution_count": 88,
      "outputs": []
    },
    {
      "cell_type": "code",
      "source": [
        "model = SimpleCNN()"
      ],
      "metadata": {
        "id": "yJA1N3h_Bt1n"
      },
      "id": "yJA1N3h_Bt1n",
      "execution_count": 89,
      "outputs": []
    },
    {
      "cell_type": "code",
      "source": [
        "loss_fn = nn.CrossEntropyLoss()"
      ],
      "metadata": {
        "id": "6DDq9l7H10fX"
      },
      "id": "6DDq9l7H10fX",
      "execution_count": 90,
      "outputs": []
    },
    {
      "cell_type": "code",
      "source": [
        "# стохастический ГС для обновления параметров\n",
        "# 1e-3 = 0.001\n",
        "# momentum для 1)ускорения схождения\n",
        "# 2) ускорения обучения\n",
        "# 3) избежания локальных минимумов\n",
        "optimizer = torch.optim.SGD(model.parameters(), lr=1e-3, momentum=0.9)"
      ],
      "metadata": {
        "id": "LevpzcxtBtzH"
      },
      "id": "LevpzcxtBtzH",
      "execution_count": 91,
      "outputs": []
    },
    {
      "cell_type": "code",
      "source": [
        "epochs = 10 # шагов обновления весов\n",
        "for epochs in range(epochs):\n",
        "  loss_val = 0 # суммарная потеря за шаг\n",
        "  acc_val = 0 # суммарная точность за шаг\n",
        "  for img, label in (pbar := tqdm(dataloader)): # цикл по батчам в датасете\n",
        "    optimizer.zero_grad() # обновление градиентов\n",
        "\n",
        "    label = F.one_hot(label, 10).float() # для сравнения с истинными метками\n",
        "    pred = model(img)\n",
        "\n",
        "    loss = loss_fn(pred, label) # вычисление ошибки\n",
        "\n",
        "    loss.backward() # градиенты для обновления параметров\n",
        "    loss_item = loss.item() #\n",
        "    loss_val += loss_item\n",
        "\n",
        "    acc_current = accuracy(pred, label)\n",
        "    acc_val += acc_current\n",
        "\n",
        "    optimizer.step() # обновление параметров на основе градиентов\n",
        "\n",
        "    # прогресс-бар\n",
        "    pbar.set_description(f'loss: {loss_item:.5f}; accuracy: {acc_current:.3f}')\n",
        "  print(loss_val/len(dataloader))\n",
        "  print(acc_val/len(dataloader))"
      ],
      "metadata": {
        "colab": {
          "base_uri": "https://localhost:8080/"
        },
        "id": "xpREqqPKBt30",
        "outputId": "e682e860-d04e-432e-88ff-5edb527b709d"
      },
      "id": "xpREqqPKBt30",
      "execution_count": 94,
      "outputs": [
        {
          "output_type": "stream",
          "name": "stderr",
          "text": [
            "  0%|          | 0/3000 [00:00<?, ?it/s]<ipython-input-88-e6f37deda7a4>:2: UserWarning: Implicit dimension choice for softmax has been deprecated. Change the call to include dim=X as an argument.\n",
            "  results = F.softmax(pred.detach()).numpy().argmax(1) == label.numpy().argmax(1)\n",
            "loss: 0.19386; accuracy: 0.950: 100%|██████████| 3000/3000 [00:32<00:00, 91.12it/s]\n"
          ]
        },
        {
          "output_type": "stream",
          "name": "stdout",
          "text": [
            "0.17373706373820702\n",
            "0.9511166666666607\n"
          ]
        },
        {
          "output_type": "stream",
          "name": "stderr",
          "text": [
            "loss: 0.10217; accuracy: 0.950: 100%|██████████| 3000/3000 [00:31<00:00, 94.32it/s] \n"
          ]
        },
        {
          "output_type": "stream",
          "name": "stdout",
          "text": [
            "0.16130695796975245\n",
            "0.9545833333333289\n"
          ]
        },
        {
          "output_type": "stream",
          "name": "stderr",
          "text": [
            "loss: 0.04785; accuracy: 1.000: 100%|██████████| 3000/3000 [00:30<00:00, 96.83it/s] \n"
          ]
        },
        {
          "output_type": "stream",
          "name": "stdout",
          "text": [
            "0.15067401453433557\n",
            "0.9569833333333296\n"
          ]
        },
        {
          "output_type": "stream",
          "name": "stderr",
          "text": [
            "loss: 0.14697; accuracy: 0.950: 100%|██████████| 3000/3000 [00:30<00:00, 97.37it/s] \n"
          ]
        },
        {
          "output_type": "stream",
          "name": "stdout",
          "text": [
            "0.14137133405404165\n",
            "0.9602166666666608\n"
          ]
        },
        {
          "output_type": "stream",
          "name": "stderr",
          "text": [
            "loss: 0.25811; accuracy: 0.850: 100%|██████████| 3000/3000 [00:31<00:00, 95.13it/s] \n"
          ]
        },
        {
          "output_type": "stream",
          "name": "stdout",
          "text": [
            "0.13320818295096978\n",
            "0.9629333333333273\n"
          ]
        },
        {
          "output_type": "stream",
          "name": "stderr",
          "text": [
            "loss: 0.20894; accuracy: 0.900: 100%|██████████| 3000/3000 [00:30<00:00, 98.33it/s] \n"
          ]
        },
        {
          "output_type": "stream",
          "name": "stdout",
          "text": [
            "0.12577929862681778\n",
            "0.9650833333333269\n"
          ]
        },
        {
          "output_type": "stream",
          "name": "stderr",
          "text": [
            "loss: 0.05922; accuracy: 1.000: 100%|██████████| 3000/3000 [00:30<00:00, 96.84it/s]\n"
          ]
        },
        {
          "output_type": "stream",
          "name": "stdout",
          "text": [
            "0.11923767672580046\n",
            "0.9669166666666607\n"
          ]
        },
        {
          "output_type": "stream",
          "name": "stderr",
          "text": [
            "loss: 0.12661; accuracy: 0.950: 100%|██████████| 3000/3000 [00:32<00:00, 91.69it/s]\n"
          ]
        },
        {
          "output_type": "stream",
          "name": "stdout",
          "text": [
            "0.11336138045135885\n",
            "0.9681833333333288\n"
          ]
        },
        {
          "output_type": "stream",
          "name": "stderr",
          "text": [
            "loss: 0.03660; accuracy: 1.000: 100%|██████████| 3000/3000 [00:31<00:00, 96.47it/s] \n"
          ]
        },
        {
          "output_type": "stream",
          "name": "stdout",
          "text": [
            "0.10788028880922744\n",
            "0.9702499999999938\n"
          ]
        },
        {
          "output_type": "stream",
          "name": "stderr",
          "text": [
            "loss: 0.04507; accuracy: 1.000: 100%|██████████| 3000/3000 [00:31<00:00, 95.50it/s]"
          ]
        },
        {
          "output_type": "stream",
          "name": "stdout",
          "text": [
            "0.10297882420313545\n",
            "0.9716666666666598\n"
          ]
        },
        {
          "output_type": "stream",
          "name": "stderr",
          "text": [
            "\n"
          ]
        }
      ]
    },
    {
      "cell_type": "code",
      "source": [
        "count_parameters(model)"
      ],
      "metadata": {
        "colab": {
          "base_uri": "https://localhost:8080/"
        },
        "id": "QpNKlGPoBt6M",
        "outputId": "9f93b985-9c56-46e1-9379-c30183f70b3b"
      },
      "id": "QpNKlGPoBt6M",
      "execution_count": 95,
      "outputs": [
        {
          "output_type": "execute_result",
          "data": {
            "text/plain": [
              "79510"
            ]
          },
          "metadata": {},
          "execution_count": 95
        }
      ]
    },
    {
      "cell_type": "code",
      "source": [
        "accuracy(pred, label)"
      ],
      "metadata": {
        "colab": {
          "base_uri": "https://localhost:8080/"
        },
        "id": "yRhOednuBt8e",
        "outputId": "48ac83c5-fb78-43b5-84c8-263a13ec5589"
      },
      "id": "yRhOednuBt8e",
      "execution_count": 96,
      "outputs": [
        {
          "output_type": "stream",
          "name": "stderr",
          "text": [
            "<ipython-input-88-e6f37deda7a4>:2: UserWarning: Implicit dimension choice for softmax has been deprecated. Change the call to include dim=X as an argument.\n",
            "  results = F.softmax(pred.detach()).numpy().argmax(1) == label.numpy().argmax(1)\n"
          ]
        },
        {
          "output_type": "execute_result",
          "data": {
            "text/plain": [
              "np.float64(1.0)"
            ]
          },
          "metadata": {},
          "execution_count": 96
        }
      ]
    },
    {
      "cell_type": "code",
      "source": [
        "img = cv2.imread('img.png', cv2.IMREAD_GRAYSCALE) # изображение в массив numpy"
      ],
      "metadata": {
        "id": "blGyoQ8gBt-S"
      },
      "id": "blGyoQ8gBt-S",
      "execution_count": 97,
      "outputs": []
    },
    {
      "cell_type": "code",
      "source": [
        "# нужный формат под модель\n",
        "img = np.expand_dims(img, axis=0)\n",
        "img = np.expand_dims(img, axis=0)\n",
        "img = img.astype(np.float32)/255.0 # нормализация"
      ],
      "metadata": {
        "id": "b3hmtLdwBuEm"
      },
      "id": "b3hmtLdwBuEm",
      "execution_count": 98,
      "outputs": []
    },
    {
      "cell_type": "code",
      "source": [
        "img.shape"
      ],
      "metadata": {
        "colab": {
          "base_uri": "https://localhost:8080/"
        },
        "id": "HqJsuJCiBuAi",
        "outputId": "3f1da6ea-459c-4ca8-ea47-f61b9c058522"
      },
      "id": "HqJsuJCiBuAi",
      "execution_count": 99,
      "outputs": [
        {
          "output_type": "execute_result",
          "data": {
            "text/plain": [
              "(1, 1, 28, 28)"
            ]
          },
          "metadata": {},
          "execution_count": 99
        }
      ]
    },
    {
      "cell_type": "code",
      "source": [
        "t_img = torch.from_numpy(img) # в тензор\n",
        "model_pred = model(t_img)\n",
        "\n",
        "# detach чтобы только вывести результат\n",
        "F.softmax(model_pred).detach().numpy()"
      ],
      "metadata": {
        "colab": {
          "base_uri": "https://localhost:8080/"
        },
        "id": "CnVxa9itBuHJ",
        "outputId": "c3f02d5d-7df3-4eae-ea90-0219a45407c8"
      },
      "id": "CnVxa9itBuHJ",
      "execution_count": 100,
      "outputs": [
        {
          "output_type": "stream",
          "name": "stderr",
          "text": [
            "<ipython-input-100-4ba05faa1244>:5: UserWarning: Implicit dimension choice for softmax has been deprecated. Change the call to include dim=X as an argument.\n",
            "  F.softmax(model_pred).detach().numpy()\n"
          ]
        },
        {
          "output_type": "execute_result",
          "data": {
            "text/plain": [
              "array([[0.04557677, 0.12412829, 0.09833425, 0.0607958 , 0.10979889,\n",
              "        0.20377555, 0.074081  , 0.16924027, 0.04564932, 0.06861992]],\n",
              "      dtype=float32)"
            ]
          },
          "metadata": {},
          "execution_count": 100
        }
      ]
    }
  ],
  "metadata": {
    "colab": {
      "provenance": [],
      "include_colab_link": true
    },
    "language_info": {
      "name": "python"
    },
    "kernelspec": {
      "name": "python3",
      "display_name": "Python 3"
    }
  },
  "nbformat": 4,
  "nbformat_minor": 5
}